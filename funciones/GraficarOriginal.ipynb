{
 "cells": [
  {
   "cell_type": "code",
   "execution_count": 1,
   "metadata": {},
   "outputs": [],
   "source": [
    "import numpy as np\n",
    "import matplotlib.pyplot as plt\n",
    "import import_ipynb\n",
    "import pandas as pd"
   ]
  },
  {
   "cell_type": "code",
   "execution_count": null,
   "metadata": {},
   "outputs": [],
   "source": [
    "def GraficarOriginal (nombreArchivo):\n",
    "\n",
    "    # Leer el archivo de datos\n",
    "    señal = np.loadtxt(nombreArchivo)\n",
    "    N = len(señal); n = np.arange(N) \n",
    "\n",
    "    # Graficar la señal original\n",
    "    plt.figure ()\n",
    "    plt.plot (n, señal)\n",
    "    plt.title ( 'Señal original' )\n",
    "    plt.xlabel ( 'Muestras' )\n",
    "    plt.ylabel ( 'Amplitud' )\n",
    "    plt.grid ()\n",
    "    plt.savefig('imagenes/senalGenerada.jpg', dpi=600, bbox_inches='tight')\n",
    "    plt.show ()"
   ]
  }
 ],
 "metadata": {
  "kernelspec": {
   "display_name": "Python 3.10.2 ('venv': venv)",
   "language": "python",
   "name": "python3"
  },
  "language_info": {
   "codemirror_mode": {
    "name": "ipython",
    "version": 3
   },
   "file_extension": ".py",
   "mimetype": "text/x-python",
   "name": "python",
   "nbconvert_exporter": "python",
   "pygments_lexer": "ipython3",
   "version": "3.10.2"
  },
  "orig_nbformat": 4,
  "vscode": {
   "interpreter": {
    "hash": "18fb510fe50ae7dd150e37a1ed3301a2a956df3c7cfcf1f9d61ab5aad6b3d255"
   }
  }
 },
 "nbformat": 4,
 "nbformat_minor": 2
}
