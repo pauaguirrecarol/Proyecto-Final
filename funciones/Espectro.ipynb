{
 "cells": [
  {
   "cell_type": "code",
   "execution_count": 4,
   "metadata": {},
   "outputs": [
    {
     "name": "stdout",
     "output_type": "stream",
     "text": [
      "importing Jupyter notebook from FTransformaciones_tiempo_frecuencia.ipynb\n"
     ]
    }
   ],
   "source": [
    "import numpy as np\n",
    "import matplotlib.pyplot as plt\n",
    "import import_ipynb\n",
    "import pandas as pd\n",
    "import bioread\n",
    "from scipy.fft import fft, fftfreq\n",
    "from FTransformaciones_tiempo_frecuencia import Espectro, señal\n",
    "from scipy import signal"
   ]
  },
  {
   "cell_type": "code",
   "execution_count": 5,
   "metadata": {},
   "outputs": [],
   "source": [
    "def Espectro(nombreArchivo):\n",
    "    #pres = np.loadtxt('Pres_data.txt')\n",
    "    N = len(nombreArchivo); n = np.arange(nombreArchivo) \n",
    "\n",
    "    espectro = Espectro(nombreArchivo)\n",
    "    p = np.arange(N)\n",
    "\n",
    "    #Graficamos\n",
    "    plt.figure(figsize=(20,4),dpi=600)\n",
    "    plt.plot(p,abs(espectro))\n",
    "    plt.xlabel('Frecuencia [Hz]')\n",
    "    plt.ylabel('Espectro')\n",
    "    plt.grid()\n",
    "    plt.show()"
   ]
  },
  {
   "cell_type": "code",
   "execution_count": null,
   "metadata": {},
   "outputs": [],
   "source": []
  }
 ],
 "metadata": {
  "kernelspec": {
   "display_name": "venv",
   "language": "python",
   "name": "python3"
  },
  "language_info": {
   "codemirror_mode": {
    "name": "ipython",
    "version": 3
   },
   "file_extension": ".py",
   "mimetype": "text/x-python",
   "name": "python",
   "nbconvert_exporter": "python",
   "pygments_lexer": "ipython3",
   "version": "3.10.2"
  },
  "orig_nbformat": 4,
  "vscode": {
   "interpreter": {
    "hash": "18fb510fe50ae7dd150e37a1ed3301a2a956df3c7cfcf1f9d61ab5aad6b3d255"
   }
  }
 },
 "nbformat": 4,
 "nbformat_minor": 2
}
